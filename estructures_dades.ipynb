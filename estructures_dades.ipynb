{
 "cells": [
  {
   "attachments": {},
   "cell_type": "markdown",
   "id": "928c5893",
   "metadata": {},
   "source": [
    "### Exercici 1\n",
    "Crea una llista que agrupi els mesos de l’any en trimestres (1T: gener, febrer i març; 2T: abril, maig, juny...), és a dir, una llista amb 4 llistes dins."
   ]
  },
  {
   "cell_type": "code",
   "execution_count": 7,
   "id": "3eb92d79",
   "metadata": {},
   "outputs": [],
   "source": [
    "mesos=[['gener', 'febrer', 'març'], ['abril', 'maig', 'juny'], ['juliol', 'agost', 'setembre'], ['octubre', 'novembre', 'desembre']]"
   ]
  },
  {
   "cell_type": "code",
   "execution_count": 8,
   "id": "f7143053",
   "metadata": {},
   "outputs": [
    {
     "data": {
      "text/plain": [
       "[['gener', 'febrer', 'març'],\n",
       " ['abril', 'maig', 'juny'],\n",
       " ['juliol', 'agost', 'setembre'],\n",
       " ['octubre', 'novembre', 'desembre']]"
      ]
     },
     "execution_count": 8,
     "metadata": {},
     "output_type": "execute_result"
    }
   ],
   "source": [
    "mesos"
   ]
  },
  {
   "attachments": {},
   "cell_type": "markdown",
   "id": "010c4fd0",
   "metadata": {},
   "source": [
    "### Exercici 2\n",
    "Crea un codi que et permeti accedir a:\n",
    "\n",
    "El segon mes del primer trimestre.\n",
    "Els mesos del primer trimestre.\n",
    "Setembre i octubre."
   ]
  },
  {
   "cell_type": "code",
   "execution_count": 9,
   "id": "ba61e46d",
   "metadata": {},
   "outputs": [],
   "source": [
    "segon_mes_1T=mesos[0][1]\n",
    "primer_trimestre=mesos[0]\n",
    "setembre=mesos[2][2]\n",
    "octubre=mesos[3][0]"
   ]
  },
  {
   "cell_type": "code",
   "execution_count": 10,
   "id": "3582ae17",
   "metadata": {},
   "outputs": [
    {
     "name": "stdout",
     "output_type": "stream",
     "text": [
      "Segon mes del primer trimestre: febrer\n",
      "Primer trimestre: ['gener', 'febrer', 'març']\n",
      "Setembre: setembre\n",
      "Octubre: octubre\n"
     ]
    }
   ],
   "source": [
    "print(\"Segon mes del primer trimestre:\", segon_mes_1T)\n",
    "print(\"Primer trimestre:\", primer_trimestre)\n",
    "print(\"Setembre:\", setembre)\n",
    "print(\"Octubre:\", octubre)"
   ]
  },
  {
   "attachments": {},
   "cell_type": "markdown",
   "id": "150e4033",
   "metadata": {},
   "source": [
    "### Exercici 3\n",
    "Crea una llista amb nombres desordenats i respon a les següents preguntes:"
   ]
  },
  {
   "cell_type": "code",
   "execution_count": 43,
   "id": "4903543e",
   "metadata": {},
   "outputs": [],
   "source": [
    "import random\n",
    "llista_nombres=[random.randint(1,50) for i in range(100)]"
   ]
  },
  {
   "cell_type": "code",
   "execution_count": 44,
   "id": "4c4f37c7",
   "metadata": {},
   "outputs": [
    {
     "name": "stdout",
     "output_type": "stream",
     "text": [
      "[11, 49, 32, 16, 46, 6, 49, 9, 23, 3, 2, 29, 34, 11, 11, 38, 5, 26, 49, 33, 18, 50, 32, 26, 33, 25, 35, 37, 42, 17, 6, 24, 34, 40, 48, 43, 4, 32, 45, 38, 11, 37, 49, 24, 5, 32, 10, 3, 15, 44, 20, 39, 16, 18, 24, 36, 18, 14, 50, 38, 12, 4, 19, 4, 7, 21, 12, 48, 49, 1, 10, 32, 21, 1, 7, 10, 6, 45, 40, 10, 6, 25, 25, 20, 47, 20, 5, 45, 19, 50, 5, 32, 39, 2, 7, 16, 29, 13, 35, 16]\n"
     ]
    }
   ],
   "source": [
    "print(llista_nombres)"
   ]
  },
  {
   "attachments": {},
   "cell_type": "markdown",
   "id": "24a6d096",
   "metadata": {},
   "source": [
    "Quants números hi ha?"
   ]
  },
  {
   "cell_type": "code",
   "execution_count": 45,
   "id": "c5106aff",
   "metadata": {},
   "outputs": [
    {
     "name": "stdout",
     "output_type": "stream",
     "text": [
      "Hi ha 100 nombres a la llista\n"
     ]
    }
   ],
   "source": [
    "print(f\"Hi ha {len(llista_nombres)} nombres a la llista\")"
   ]
  },
  {
   "attachments": {},
   "cell_type": "markdown",
   "id": "e99f345c",
   "metadata": {},
   "source": [
    "Quantes vegades apareix el número 3?"
   ]
  },
  {
   "cell_type": "code",
   "execution_count": 46,
   "id": "c0f83ce5",
   "metadata": {},
   "outputs": [
    {
     "name": "stdout",
     "output_type": "stream",
     "text": [
      "El número 3 apareix 2 vegades a la llista\n"
     ]
    }
   ],
   "source": [
    "print(f\"El número 3 apareix {llista_nombres.count(3)} vegades a la llista\")"
   ]
  },
  {
   "attachments": {},
   "cell_type": "markdown",
   "id": "92259bcd",
   "metadata": {},
   "source": [
    "Quantes vegades apareixen els nombres 3 i 4?"
   ]
  },
  {
   "cell_type": "code",
   "execution_count": 47,
   "id": "fd118b2b",
   "metadata": {},
   "outputs": [
    {
     "name": "stdout",
     "output_type": "stream",
     "text": [
      "El números 3 i 4 apareixen 5 vegades a la llista\n"
     ]
    }
   ],
   "source": [
    "print(f\"El números 3 i 4 apareixen {llista_nombres.count(3) + llista_nombres.count(4)} vegades a la llista\")"
   ]
  },
  {
   "attachments": {},
   "cell_type": "markdown",
   "id": "e85b1b1e",
   "metadata": {},
   "source": [
    "Quin és el número més gran?"
   ]
  },
  {
   "cell_type": "code",
   "execution_count": 48,
   "id": "64911aa2",
   "metadata": {},
   "outputs": [
    {
     "name": "stdout",
     "output_type": "stream",
     "text": [
      "El número més gran de la llista és el 50\n"
     ]
    }
   ],
   "source": [
    "print(f\"El número més gran de la llista és el {max(llista_nombres)}\")"
   ]
  },
  {
   "attachments": {},
   "cell_type": "markdown",
   "id": "45a9a784",
   "metadata": {},
   "source": [
    "Quins són els 3 números més petits?"
   ]
  },
  {
   "cell_type": "code",
   "execution_count": 53,
   "id": "ccb8a114",
   "metadata": {},
   "outputs": [
    {
     "name": "stdout",
     "output_type": "stream",
     "text": [
      "El tres números més petits de la llista són : [1, 1, 2]\n"
     ]
    }
   ],
   "source": [
    "from copy import copy as cp\n",
    "llista_ordenada=cp(llista_nombres)\n",
    "llista_ordenada.sort()\n",
    "print(f\"El tres números més petits de la llista són : {llista_ordenada[:3]}\")\n"
   ]
  },
  {
   "attachments": {},
   "cell_type": "markdown",
   "id": "b611acaf",
   "metadata": {},
   "source": [
    "Quin és el rang d’aquesta llista?"
   ]
  },
  {
   "cell_type": "code",
   "execution_count": 52,
   "id": "39636503",
   "metadata": {},
   "outputs": [
    {
     "name": "stdout",
     "output_type": "stream",
     "text": [
      "El rang de la llista de nombres es de 1 a 50\n"
     ]
    }
   ],
   "source": [
    "print(f\"El rang de la llista de nombres es de {min(llista_nombres)} a {max(llista_nombres)}\")"
   ]
  },
  {
   "attachments": {},
   "cell_type": "markdown",
   "id": "04e95ad5",
   "metadata": {},
   "source": [
    "### Exercici 4\n",
    "Crea un diccionari de la següent forma i respon a les preguntes:\n",
    "\n",
    "compra = { \"Pomes\" : {\"Qty\": 5, \"€\": 0.42}, \"Peres\" : {\"Qty\": 3, \"€\": 0.66} }"
   ]
  },
  {
   "cell_type": "code",
   "execution_count": 54,
   "id": "246c2675",
   "metadata": {},
   "outputs": [],
   "source": [
    "compra = { \"Pomes\" : {\"Qty\": 5, \"€\": 0.42}, \"Peres\" : {\"Qty\": 3, \"€\": 0.66} }"
   ]
  },
  {
   "attachments": {},
   "cell_type": "markdown",
   "id": "a1713ea2",
   "metadata": {},
   "source": [
    "Afegeix alguna fruita més\n"
   ]
  },
  {
   "cell_type": "code",
   "execution_count": 55,
   "id": "a3ee9ea2",
   "metadata": {},
   "outputs": [],
   "source": [
    "compra[\"Mandarines\"]={\"Qty\": 4, \"€\": 0.25}"
   ]
  },
  {
   "attachments": {},
   "cell_type": "markdown",
   "id": "bff53cda",
   "metadata": {},
   "source": [
    "Quant han costat les peres en total?"
   ]
  },
  {
   "cell_type": "code",
   "execution_count": 56,
   "id": "9dc772dd",
   "metadata": {},
   "outputs": [
    {
     "name": "stdout",
     "output_type": "stream",
     "text": [
      "Les peres han costat 1.98 €\n"
     ]
    }
   ],
   "source": [
    "cost_peres=compra[\"Peres\"][\"Qty\"] * compra[\"Peres\"][\"€\"]\n",
    "print(f\"Les peres han costat {cost_peres} €\")"
   ]
  },
  {
   "attachments": {},
   "cell_type": "markdown",
   "id": "1b558ff9",
   "metadata": {},
   "source": [
    "Quantes fruites hem comprat en total?"
   ]
  },
  {
   "cell_type": "code",
   "execution_count": 60,
   "id": "ac8f7c4e",
   "metadata": {},
   "outputs": [
    {
     "name": "stdout",
     "output_type": "stream",
     "text": [
      "Hem comprat 3 fruites en total\n"
     ]
    }
   ],
   "source": [
    "print(f\"Hem comprat {len(compra)} fruites en total\")"
   ]
  },
  {
   "attachments": {},
   "cell_type": "markdown",
   "id": "de42221a",
   "metadata": {},
   "source": [
    "Quina és la fruita més cara?"
   ]
  },
  {
   "cell_type": "code",
   "execution_count": 67,
   "id": "916ceba9",
   "metadata": {},
   "outputs": [
    {
     "name": "stdout",
     "output_type": "stream",
     "text": [
      "La fruita més cara és: Peres\n"
     ]
    }
   ],
   "source": [
    "fruita_cara=[\"\", 0]\n",
    "for element in compra:\n",
    "    if compra[element]['€'] > fruita_cara[1]:\n",
    "        fruita_cara[1]=compra[element]['€']\n",
    "        fruita_cara[0]=element\n",
    "print(f\"La fruita més cara és: {fruita_cara[0]}\")"
   ]
  }
 ],
 "metadata": {
  "kernelspec": {
   "display_name": "Python 3 (ipykernel)",
   "language": "python",
   "name": "python3"
  },
  "language_info": {
   "codemirror_mode": {
    "name": "ipython",
    "version": 3
   },
   "file_extension": ".py",
   "mimetype": "text/x-python",
   "name": "python",
   "nbconvert_exporter": "python",
   "pygments_lexer": "ipython3",
   "version": "3.11.3"
  }
 },
 "nbformat": 4,
 "nbformat_minor": 5
}
